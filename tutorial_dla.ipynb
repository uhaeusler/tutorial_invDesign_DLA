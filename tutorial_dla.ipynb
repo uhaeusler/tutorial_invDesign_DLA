{
 "cells": [
  {
   "cell_type": "markdown",
   "metadata": {},
   "source": [
    "# Optimization of DLA structure using inverse design\n",
    "This file will give you a short tutorial on optimizing a DLA structure.\n",
    "\n",
    "### Import packages"
   ]
  },
  {
   "cell_type": "code",
   "execution_count": 1,
   "metadata": {},
   "outputs": [],
   "source": [
    "import numpy as np\n",
    "import autograd.numpy as npa\n",
    "from autograd.scipy.signal import convolve as conv\n",
    "\n",
    "import sys\n",
    "sys.path.append('../ceviche')\n",
    "\n",
    "from ceviche import fdfd_hz, jacobian\n",
    "from ceviche.optimizers import adam_optimize\n",
    "from ceviche.constants import C_0\n",
    "\n",
    "import matplotlib.pylab as plt\n",
    "from skimage.draw import circle"
   ]
  },
  {
   "cell_type": "markdown",
   "metadata": {},
   "source": [
    "### Physical parameters\n",
    "First of all, we choose the physical parameters."
   ]
  },
  {
   "cell_type": "code",
   "execution_count": 2,
   "metadata": {},
   "outputs": [],
   "source": [
    "wavelength = 2e-6                # wavelength of laser light (m)\n",
    "beta = 0.5                       # speed of electron / speed of light\n",
    "omega = 2*np.pi*C_0/wavelength   # angular frequencies (1/s)"
   ]
  },
  {
   "cell_type": "markdown",
   "metadata": {},
   "source": [
    "### Simulation cell\n",
    "Next step is to create our simulation cell."
   ]
  },
  {
   "cell_type": "code",
   "execution_count": 3,
   "metadata": {},
   "outputs": [],
   "source": [
    "dL = 2e-8                # grid size (m)\n",
    "npml = [20, 0]           # size of perfectly matched layers\n",
    "gap = 15                 # gap size for electron beam\n",
    "spc = 40                 # space between design region and end of cell\n",
    "pillar_width = 50        # maximal size of our structure\n",
    "Nx = spc*2 + gap + pillar_width*2 # number of grid cells in x direction\n",
    "Ny = int(beta*wavelength/dL)      # number of grid cells in y direction\n",
    "epsr_max = 12            # permittivity of dielectric structure\n",
    "epsr_min = 1             # vacuum permittivity"
   ]
  },
  {
   "cell_type": "markdown",
   "metadata": {},
   "source": [
    "Our simulation cell consists of\\\n",
    "space  |  pillar  |  gap  |  pillar  |  space"
   ]
  },
  {
   "cell_type": "code",
   "execution_count": 4,
   "metadata": {},
   "outputs": [
    {
     "data": {
      "image/png": "[encoded data removed]",
      "text/plain": [
       "<Figure size 432x288 with 1 Axes>"
      ]
     },
     "metadata": {
      "needs_background": "light"
     },
     "output_type": "display_data"
    }
   ],
   "source": [
    "design_region = np.zeros((Nx, Ny))\n",
    "design_region[spc:spc+pillar_width, :] = 1\n",
    "design_region[-spc-pillar_width:-spc, :] = 1\n",
    "plt.imshow(design_region.T)\n",
    "plt.show()"
   ]
  },
  {
   "cell_type": "markdown",
   "metadata": {},
   "source": [
    "### Material density and blur function\n",
    "Instead of directly optimizing the relative permittivity, we will optimize the material density in the design region and convert it afterward.\\\n",
    "This will allow us to blur the structure and thereby increase the feature size."
   ]
  },
  {
   "cell_type": "code",
   "execution_count": 5,
   "metadata": {},
   "outputs": [],
   "source": [
    "blur_radius = 7         # smear structure to avoid sharp edges\n",
    "gamma = 5e2             # make structure binary (vacuum, structure)\n",
    "\n",
    "def operator_blur(rho, radius, Ny):\n",
    "    \"\"\"Blur operator implemented via two-dimensional convolution \"\"\"\n",
    "    rr, cc = circle(radius, radius, radius+1)\n",
    "    kernel = np.zeros((2*radius+1, 2*radius+1), dtype=np.float)\n",
    "    kernel[rr, cc] = 1\n",
    "    kernel=kernel/kernel.sum()\n",
    "    rho_stack = npa.append(rho, npa.append(rho, rho, axis=1), axis=1)\n",
    "    conv_rho = conv(rho_stack, kernel, mode='full')[radius:-radius,radius+Ny:2*Ny+radius]\n",
    "    return conv_rho\n",
    "\n",
    "def make_rho(rho, design_region, radius, Ny):\n",
    "    \"\"\"Helper function for applying the blur to only the design region \"\"\"\n",
    "    return rho * (design_region==0).astype(np.float) + operator_blur(rho, radius, Ny) * design_region\n",
    "\n",
    "def operator_proj(rho, eta, gamma):\n",
    "    \"\"\"Density projection \"\"\"\n",
    "    return npa.divide(npa.tanh(gamma * eta) + npa.tanh(gamma * (rho - eta)), npa.tanh(gamma * eta) + npa.tanh(gamma * (1 - eta)))\n",
    "\n",
    "def convert_rho_epsr(rho):\n",
    "    \"\"\" Helper function to convert the material density rho to permittivity eps_r \"\"\"\n",
    "    return epsr_min + (epsr_max-epsr_min)*operator_proj(make_rho(rho, design_region, blur_radius, Ny), 0.5, gamma)\n",
    "\n",
    "rho_init = 0.5 * design_region\n",
    "eps_r = convert_rho_epsr(rho_init)"
   ]
  },
  {
   "cell_type": "markdown",
   "metadata": {},
   "source": [
    "### Source term\n",
    "Now, let's add a source term in the form of an oscillating magnetic dipole in z-direction."
   ]
  },
  {
   "cell_type": "code",
   "execution_count": 6,
   "metadata": {},
   "outputs": [
    {
     "data": {
      "image/png": "[encoded data removed]",
      "text/plain": [
       "<Figure size 432x288 with 1 Axes>"
      ]
     },
     "metadata": {
      "needs_background": "light"
     },
     "output_type": "display_data"
    }
   ],
   "source": [
    "source = np.zeros((Nx, Ny))\n",
    "source[npml[0]+10, :] = 1     # use just this line for single side drive\n",
    "source[-npml[0]-10-1, :] = 1  # add this for dual side drive\n",
    "plt.imshow(source.T + design_region.T)\n",
    "plt.show()"
   ]
  },
  {
   "cell_type": "markdown",
   "metadata": {},
   "source": [
    "### Simulation run\n",
    "We are ready to run the FDFD simulation"
   ]
  },
  {
   "cell_type": "code",
   "execution_count": 7,
   "metadata": {},
   "outputs": [
    {
     "data": {
      "image/png": "[encoded data removed]",
      "text/plain": [
       "<Figure size 432x288 with 1 Axes>"
      ]
     },
     "metadata": {
      "needs_background": "light"
     },
     "output_type": "display_data"
    }
   ],
   "source": [
    "F = fdfd_hz(omega, dL, eps_r, npml)   # create an object that stores our parameters and current structure.\n",
    "Ex, Ey, Hz = F.solve(source)          # calculate the fields for our source term\n",
    "plt.imshow(np.real(Hz.T), cmap='RdBu')\n",
    "plt.show()"
   ]
  },
  {
   "cell_type": "markdown",
   "metadata": {},
   "source": [
    "### Objective function\n",
    "In order to run an optimization, we need to define an objective function, which evaluates the quality of the dielectric structure by measuring the acceleration gradient. For this, we define a probe in the center of the electron channel. By introducing a complex wave, we can account for the movement of the electron."
   ]
  },
  {
   "cell_type": "code",
   "execution_count": 8,
   "metadata": {},
   "outputs": [],
   "source": [
    "probe = np.zeros((Nx, Ny), dtype=np.complex128)\n",
    "probe[spc+pillar_width+gap//2:spc+pillar_width+gap//2+2,:] = np.exp(-1j * 2*np.pi * np.arange(Ny)/Ny)\n",
    "\n",
    "def objective(rho):\n",
    "    \"\"\" Objective function measuring the acceleration gradient \"\"\"\n",
    "    eps_arr = convert_rho_epsr(design_region*rho.reshape((Nx, Ny)))\n",
    "    F.eps_r = eps_arr\n",
    "    Ex, Ey, Hz = F.solve(source)\n",
    "    \n",
    "    G = npa.abs(npa.sum(Ey*probe))  # calculate objective value G\n",
    "    \n",
    "    # normalize G by maximum field\n",
    "    E_mag = npa.sqrt(npa.square(npa.abs(Ex)) + npa.square(npa.abs(Ey)))\n",
    "    material_density = (eps_r - 1) / (epsr_max - 1)\n",
    "    max_field = npa.max(E_mag * material_density)\n",
    "    \n",
    "    return G/max_field"
   ]
  },
  {
   "cell_type": "markdown",
   "metadata": {},
   "source": [
    "### Optimization run\n",
    "Finally, we can actually run the optimization."
   ]
  },
  {
   "cell_type": "code",
   "execution_count": 9,
   "metadata": {},
   "outputs": [
    {
     "name": "stdout",
     "output_type": "stream",
     "text": [
      "Epoch:   1/ 50 | Duration: 0.38 secs | Value: 1.098499e-12\n",
      "Epoch:   2/ 50 | Duration: 0.36 secs | Value: 4.770812e+00\n",
      "Epoch:   3/ 50 | Duration: 0.36 secs | Value: 7.761166e+00\n",
      "Epoch:   4/ 50 | Duration: 0.39 secs | Value: 1.021890e+01\n",
      "Epoch:   5/ 50 | Duration: 0.39 secs | Value: 1.336414e+01\n",
      "Epoch:   6/ 50 | Duration: 0.37 secs | Value: 1.692686e+01\n",
      "Epoch:   7/ 50 | Duration: 0.46 secs | Value: 2.206222e+01\n",
      "Epoch:   8/ 50 | Duration: 0.42 secs | Value: 1.613932e+01\n",
      "Epoch:   9/ 50 | Duration: 0.43 secs | Value: 1.349160e+01\n",
      "Epoch:  10/ 50 | Duration: 0.42 secs | Value: 1.537059e+01\n",
      "Epoch:  11/ 50 | Duration: 0.39 secs | Value: 1.965037e+01\n",
      "Epoch:  12/ 50 | Duration: 0.41 secs | Value: 2.396518e+01\n",
      "Epoch:  13/ 50 | Duration: 0.47 secs | Value: 2.149602e+01\n",
      "Epoch:  14/ 50 | Duration: 0.53 secs | Value: 1.797715e+01\n",
      "Epoch:  15/ 50 | Duration: 0.59 secs | Value: 1.728412e+01\n",
      "Epoch:  16/ 50 | Duration: 0.44 secs | Value: 1.822899e+01\n",
      "Epoch:  17/ 50 | Duration: 0.45 secs | Value: 2.113357e+01\n",
      "Epoch:  18/ 50 | Duration: 0.47 secs | Value: 1.851002e+01\n",
      "Epoch:  19/ 50 | Duration: 0.39 secs | Value: 1.852053e+01\n",
      "Epoch:  20/ 50 | Duration: 0.64 secs | Value: 1.808790e+01\n",
      "Epoch:  21/ 50 | Duration: 0.58 secs | Value: 1.840388e+01\n",
      "Epoch:  22/ 50 | Duration: 0.44 secs | Value: 2.189509e+01\n",
      "Epoch:  23/ 50 | Duration: 0.47 secs | Value: 2.123025e+01\n",
      "Epoch:  24/ 50 | Duration: 0.50 secs | Value: 2.276946e+01\n",
      "Epoch:  25/ 50 | Duration: 0.45 secs | Value: 2.421870e+01\n",
      "Epoch:  26/ 50 | Duration: 0.40 secs | Value: 2.349979e+01\n",
      "Epoch:  27/ 50 | Duration: 0.39 secs | Value: 2.411536e+01\n",
      "Epoch:  28/ 50 | Duration: 0.41 secs | Value: 2.836731e+01\n",
      "Epoch:  29/ 50 | Duration: 0.39 secs | Value: 2.721139e+01\n",
      "Epoch:  30/ 50 | Duration: 0.42 secs | Value: 2.682299e+01\n",
      "Epoch:  31/ 50 | Duration: 0.34 secs | Value: 2.737081e+01\n",
      "Epoch:  32/ 50 | Duration: 0.37 secs | Value: 2.727292e+01\n",
      "Epoch:  33/ 50 | Duration: 0.39 secs | Value: 2.738964e+01\n",
      "Epoch:  34/ 50 | Duration: 0.36 secs | Value: 2.736752e+01\n",
      "Epoch:  35/ 50 | Duration: 0.36 secs | Value: 2.771867e+01\n",
      "Epoch:  36/ 50 | Duration: 0.41 secs | Value: 2.961080e+01\n",
      "Epoch:  37/ 50 | Duration: 0.39 secs | Value: 3.002283e+01\n",
      "Epoch:  38/ 50 | Duration: 0.35 secs | Value: 3.205301e+01\n",
      "Epoch:  39/ 50 | Duration: 0.39 secs | Value: 3.003187e+01\n",
      "Epoch:  40/ 50 | Duration: 0.37 secs | Value: 3.250564e+01\n",
      "Epoch:  41/ 50 | Duration: 0.36 secs | Value: 2.734529e+01\n",
      "Epoch:  42/ 50 | Duration: 0.45 secs | Value: 2.711247e+01\n",
      "Epoch:  43/ 50 | Duration: 0.45 secs | Value: 2.923243e+01\n",
      "Epoch:  44/ 50 | Duration: 0.52 secs | Value: 3.138914e+01\n",
      "Epoch:  45/ 50 | Duration: 0.43 secs | Value: 3.104463e+01\n",
      "Epoch:  46/ 50 | Duration: 0.35 secs | Value: 3.168686e+01\n",
      "Epoch:  47/ 50 | Duration: 0.39 secs | Value: 3.306811e+01\n",
      "Epoch:  48/ 50 | Duration: 0.37 secs | Value: 3.476776e+01\n",
      "Epoch:  49/ 50 | Duration: 0.37 secs | Value: 3.304784e+01\n",
      "Epoch:  50/ 50 | Duration: 0.39 secs | Value: 3.466135e+01\n"
     ]
    }
   ],
   "source": [
    "N_opts = 50\n",
    "\n",
    "objective_jac = jacobian(objective, mode='reverse')\n",
    "(rho_optimum, loss) = adam_optimize(objective, rho_init.flatten(), objective_jac, Nsteps=N_opts, direction='max', step_size=1e-2)"
   ]
  },
  {
   "cell_type": "markdown",
   "metadata": {},
   "source": [
    "### Visualization of result\n",
    "And show the result."
   ]
  },
  {
   "cell_type": "code",
   "execution_count": 38,
   "metadata": {},
   "outputs": [
    {
     "data": {
      "image/png": "[encoded data removed]",
      "text/plain": [
       "<Figure size 432x288 with 1 Axes>"
      ]
     },
     "metadata": {
      "needs_background": "light"
     },
     "output_type": "display_data"
    }
   ],
   "source": [
    "eps_r = convert_rho_epsr(design_region * rho_optimum.reshape((Nx, Ny)))\n",
    "G = objective(rho_optimum)\n",
    "F.eps_r = eps_r\n",
    "Ex, Ey, Hz = F.solve(source)          # calculate the fields for our source term\n",
    "\n",
    "plt.imshow(np.real(Ey.T), cmap='RdBu')\n",
    "plt.contour(eps_r.T, levels=[(epsr_max+1)/2])\n",
    "plt.show()"
   ]
  },
  {
   "cell_type": "code",
   "execution_count": null,
   "metadata": {},
   "outputs": [],
   "source": []
  }
 ],
 "metadata": {
  "kernelspec": {
   "display_name": "Python 3",
   "language": "python",
   "name": "python3"
  },
  "language_info": {
   "codemirror_mode": {
    "name": "ipython",
    "version": 3
   },
   "file_extension": ".py",
   "mimetype": "text/x-python",
   "name": "python",
   "nbconvert_exporter": "python",
   "pygments_lexer": "ipython3",
   "version": "3.7.4"
  }
 },
 "nbformat": 4,
 "nbformat_minor": 4
}
